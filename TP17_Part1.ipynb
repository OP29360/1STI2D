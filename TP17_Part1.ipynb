{
 "cells": [
  {
   "cell_type": "markdown",
   "metadata": {
    "slideshow": {
     "slide_type": "slide"
    }
   },
   "source": [
    "<table>   <tr>\n",
    "    <td>1 STI2D  </td>\n",
    "    <td><img src=\"logo.jpg\"      alt=\"St Joseph-La Salle LORIENT\" width=\"50\"      height=\"48\"></td>\n",
    "  </tr>   </table>\n",
    "  \n",
    "# <center> REVISIONS PROGRAMMATION PYTHON -  jupyter Notebook </center>\n",
    "\n",
    "Cette première partie du TP a pour objectif de vous rappeler les bases de programmation PYTHON grâce à l'éditeur <b> NOTEBOOK JUPYTER</b> avant de continuer la partie 2 du TP17.\n",
    "\n",
    "\n",
    "-----"
   ]
  },
  {
   "cell_type": "markdown",
   "metadata": {},
   "source": [
    "Le notebook jupyter est l'outil que vous avez utilisez en seconde en SNT. \n",
    "\n",
    "<u><i> Rappel : </u></i> Il est consituté de **cellules** individuelles permettant de tester du **code** Python.\n",
    "Une cellule notée **Entrée[ ]:** correspond à une suite d'instruction Python que l'on peut tester directement\n",
    "\n",
    "\n",
    "Pour **exécuter le code** Python d'une cellule, il faut cliquer sur le bouton <button class='fa fa-step-forward icon-step-forward'></button>. Tester sur les deux cellules suivantes"
   ]
  },
  {
   "cell_type": "markdown",
   "metadata": {
    "slideshow": {
     "slide_type": "slide"
    }
   },
   "source": [
    "## A/ GESTION DES ENTREES SORTIES"
   ]
  },
  {
   "cell_type": "markdown",
   "metadata": {
    "slideshow": {
     "slide_type": "subslide"
    }
   },
   "source": [
    "Saisie d'une chaîne de caractères "
   ]
  },
  {
   "cell_type": "code",
   "execution_count": null,
   "metadata": {
    "slideshow": {
     "slide_type": "fragment"
    }
   },
   "outputs": [],
   "source": [
    "nom = input (\"Quel est votre nom ?\")"
   ]
  },
  {
   "cell_type": "markdown",
   "metadata": {
    "slideshow": {
     "slide_type": "fragment"
    }
   },
   "source": [
    "La variable *nom* prend la valeur de votre nom de famille"
   ]
  },
  {
   "cell_type": "markdown",
   "metadata": {
    "slideshow": {
     "slide_type": "slide"
    }
   },
   "source": [
    "L'autre type de variable sont les nombres réels"
   ]
  },
  {
   "cell_type": "code",
   "execution_count": null,
   "metadata": {
    "slideshow": {
     "slide_type": "-"
    }
   },
   "outputs": [],
   "source": [
    "Nombre=input(\"Entrez un nombre\")\n",
    "n=float(Nombre)\n",
    "print(\"Le carré de\",n, \"est,\",n*n)"
   ]
  },
  {
   "cell_type": "markdown",
   "metadata": {
    "slideshow": {
     "slide_type": "subslide"
    }
   },
   "source": [
    "Les opérations mathémariques de base sont :\n",
    "        + addition\n",
    "        - soustraction\n",
    "        * multiplication\n",
    "        / division\n",
    "        ** puissance\n",
    "        // division entière\n",
    "        % reste de la division\n"
   ]
  },
  {
   "cell_type": "markdown",
   "metadata": {
    "slideshow": {
     "slide_type": "-"
    }
   },
   "source": [
    "## B/ LES BOUCLES ET CONDITIONS"
   ]
  },
  {
   "cell_type": "markdown",
   "metadata": {},
   "source": [
    "Les boucles permettent de répéter une ou des instructions plusieurs fois selon une condition. Cela permet d'optimiser le nombre d'instructions dans un programme"
   ]
  },
  {
   "cell_type": "markdown",
   "metadata": {
    "slideshow": {
     "slide_type": "-"
    }
   },
   "source": [
    "<u><b>B.1/</b>La boucle <b>for ... in</b></u>"
   ]
  },
  {
   "cell_type": "markdown",
   "metadata": {
    "slideshow": {
     "slide_type": "subslide"
    }
   },
   "source": [
    "Cette boucle permet de répéter une ou des instructions identiques plusieurs fois afin d'alléger le nombre de lignes d'un programme\n",
    "\n",
    "\n",
    "Exécutez ces deux cellules : "
   ]
  },
  {
   "cell_type": "code",
   "execution_count": null,
   "metadata": {},
   "outputs": [],
   "source": [
    "for i in range(4):\n",
    "    print(i)"
   ]
  },
  {
   "cell_type": "code",
   "execution_count": null,
   "metadata": {},
   "outputs": [],
   "source": [
    "for i in range(4):\n",
    "    print(i, end =\"\")"
   ]
  },
  {
   "cell_type": "markdown",
   "metadata": {
    "slideshow": {
     "slide_type": "slide"
    }
   },
   "source": [
    "<u><b>B.2/</b>Le test conditionnel  <b>if .....else</b></u>"
   ]
  },
  {
   "cell_type": "markdown",
   "metadata": {
    "slideshow": {
     "slide_type": "subslide"
    }
   },
   "source": [
    "Le test **if   else** permet d'exécuter une instruction selon une condition.\n",
    "\n",
    "Exécutez la cellule suivante plusieurs fois afin de visualiser le résultat."
   ]
  },
  {
   "cell_type": "code",
   "execution_count": null,
   "metadata": {
    "slideshow": {
     "slide_type": "subslide"
    }
   },
   "outputs": [],
   "source": [
    "Nombre=input(\"Entrez un nombre\")\n",
    "n=float(Nombre)\n",
    "if (n>=3):\n",
    "    print(\"ce nombre est supérieur à 3\")\n",
    "else:\n",
    "    print(\"ce nombre est inférieur à 3\")\n",
    "print(\"fin du test\")"
   ]
  },
  {
   "cell_type": "markdown",
   "metadata": {
    "slideshow": {
     "slide_type": "subslide"
    }
   },
   "source": [
    "**les principaux opérateurs de test** sont : \n",
    "\n",
    "   si N est égal à zéro      --> if (N==0): <br>\n",
    "   si N est positif   --> if (N>0):<br>\n",
    "   si N est supérieur ou égal à 3   --> if (N>=3):<br>\n",
    "   si N est différent de 3   --> if (N!=3):<br>\n",
    "   si N est est compris strictement entre 2 et 12 --> if (N>2) and (N<12):"
   ]
  },
  {
   "cell_type": "markdown",
   "metadata": {
    "slideshow": {
     "slide_type": "slide"
    }
   },
   "source": [
    "<u><b>B.3/</b>La boucle <b>while</b></u>"
   ]
  },
  {
   "cell_type": "markdown",
   "metadata": {
    "slideshow": {
     "slide_type": "subslide"
    }
   },
   "source": [
    "Cette boucle permet de répéter un groupe d'instruction **tant que** la condition testée reste vraie.\n",
    "\n",
    "Exécutez la cellule suivante"
   ]
  },
  {
   "cell_type": "code",
   "execution_count": null,
   "metadata": {
    "slideshow": {
     "slide_type": "fragment"
    }
   },
   "outputs": [],
   "source": [
    "k = 0\n",
    "while k<12:\n",
    "    print(\"voici ma série de nombres :\" ,k)\n",
    "    k=k+1\n",
    "print(\"fin de ma série\")"
   ]
  },
  {
   "cell_type": "markdown",
   "metadata": {},
   "source": [
    "<b><u> Remarque</b></u> L'instruction <b><i> While true </b></i> permet d'exécuter un groupe d'instructions à l'infini car la condtion sera toujours VRAIE (trupe)"
   ]
  },
  {
   "cell_type": "markdown",
   "metadata": {
    "slideshow": {
     "slide_type": "slide"
    }
   },
   "source": [
    "## C/ Manipulation d'un ficher tableur"
   ]
  },
  {
   "cell_type": "markdown",
   "metadata": {},
   "source": [
    "Un **fiche csv** est un ensemble de valeurs (nombres ou caractères) organisées en colonne qui peut être ouvert par un éditeur de tableur de type EXCEL.(CSV = Coma Separate Value)\n",
    "\n",
    "En langage Python, on peut manipuler un fichier csv grâce de deux façons :\n",
    "    - Grâce à la librairie pandas\n",
    "    - Grâce à la libraire csv\n"
   ]
  },
  {
   "cell_type": "markdown",
   "metadata": {},
   "source": [
    "<u><b>C.1/</b>Utilisation de la librairie <b>pandas</b></u>"
   ]
  },
  {
   "cell_type": "markdown",
   "metadata": {},
   "source": [
    "Exécutez la cellule suivante"
   ]
  },
  {
   "cell_type": "code",
   "execution_count": null,
   "metadata": {},
   "outputs": [],
   "source": [
    "import pandas as pd   #Pandas est une librairie qui permet de créer des tableaux de données\n",
    "\n",
    "# Création d'un tableau vide, ou plutôt une ligne vide, la ligne 0, avec 3 colonnes : \n",
    "donnees=pd.DataFrame(index=[0],columns={'temps','temperature'})  \n",
    "\n",
    "#Dans la première ligne, numéro 0, on va remplir les cases par des données\n",
    "donnees.at[donnees.index[0],'temps']=44\n",
    "donnees.at[donnees.index[0],'temperature']=-3\n",
    "\n",
    "\n",
    "#On rajoute une ligne en y accollant (on concatène) une nouvelle ligne\n",
    "donnees = pd.concat([donnees,pd.DataFrame(index=[1],columns={'temps','temperature'})],ignore_index=True)\n",
    "\n",
    "#Que l'on remplit par des données\n",
    "donnees.at[donnees.index[1],'temps']=50\n",
    "donnees.at[donnees.index[1],'temperature']=-2\n",
    "donnees = pd.concat([donnees,pd.DataFrame(index=[2],columns={'temps','temperature'})],ignore_index=True)\n",
    "donnees.at[donnees.index[2],'temps']=60\n",
    "donnees.at[donnees.index[2],'temperature']=-1\n",
    "\n",
    "#On peut ainsi créer notre propre tableau avec autant de lignes que l'on souhaite\n",
    "\n",
    "#On sauvegarde le tableau dans un fichier csv pour pouvoir l'envoyer aux amis par exemple\n",
    "donnees.to_csv(r'mesure.csv',index=True)"
   ]
  },
  {
   "cell_type": "markdown",
   "metadata": {
    "slideshow": {
     "slide_type": "subslide"
    }
   },
   "source": [
    "Exécutez la cellule suivante :"
   ]
  },
  {
   "cell_type": "code",
   "execution_count": null,
   "metadata": {},
   "outputs": [],
   "source": [
    "pd.read_csv(r'mesure.csv', sep=',', index_col=0)"
   ]
  },
  {
   "cell_type": "markdown",
   "metadata": {},
   "source": [
    "Ouvrir le fichier mesure.csv avec EXCEL et observer son contenu"
   ]
  },
  {
   "cell_type": "markdown",
   "metadata": {},
   "source": [
    "<u><b>C.2/</b>Utilisation de la librairie <b>CSV</b></u>"
   ]
  },
  {
   "cell_type": "code",
   "execution_count": null,
   "metadata": {
    "slideshow": {
     "slide_type": "-"
    }
   },
   "outputs": [],
   "source": [
    "import csv\n",
    "with open('mesure2.csv', 'w', newline='') as csvfile:\n",
    "    writer = csv.writer(csvfile)\n",
    "    writer.writerow((\"temps\",\"temperature\"))\n",
    "    writer.writerow((44,-2))\n",
    "    writer.writerow((50,-2))\n",
    "    writer.writerow((60,-1))\n"
   ]
  },
  {
   "cell_type": "code",
   "execution_count": null,
   "metadata": {},
   "outputs": [],
   "source": [
    "pd.read_csv(r'mesure2.csv', sep=',', index_col=0)"
   ]
  },
  {
   "cell_type": "markdown",
   "metadata": {},
   "source": [
    "Ouvrir le fichier mesure2.csv avec EXCEL et observer son contenu"
   ]
  },
  {
   "cell_type": "code",
   "execution_count": null,
   "metadata": {},
   "outputs": [],
   "source": []
  }
 ],
 "metadata": {
  "celltoolbar": "Visualize",
  "kernelspec": {
   "display_name": "Python 3",
   "language": "python",
   "name": "python3"
  },
  "language_info": {
   "codemirror_mode": {
    "name": "ipython",
    "version": 3
   },
   "file_extension": ".py",
   "mimetype": "text/x-python",
   "name": "python",
   "nbconvert_exporter": "python",
   "pygments_lexer": "ipython3",
   "version": "3.7.3"
  },
  "latex_envs": {
   "LaTeX_envs_menu_present": true,
   "autoclose": false,
   "autocomplete": true,
   "bibliofile": "biblio.bib",
   "cite_by": "apalike",
   "current_citInitial": 1,
   "eqLabelWithNumbers": true,
   "eqNumInitial": 1,
   "hotkeys": {
    "equation": "Ctrl-E",
    "itemize": "Ctrl-I"
   },
   "labels_anchors": false,
   "latex_user_defs": false,
   "report_style_numbering": false,
   "user_envs_cfg": false
  },
  "toc": {
   "base_numbering": 1,
   "nav_menu": {},
   "number_sections": true,
   "sideBar": true,
   "skip_h1_title": false,
   "title_cell": "Table of Contents",
   "title_sidebar": "Contents",
   "toc_cell": false,
   "toc_position": {},
   "toc_section_display": true,
   "toc_window_display": false
  },
  "varInspector": {
   "cols": {
    "lenName": 16,
    "lenType": 16,
    "lenVar": 40
   },
   "kernels_config": {
    "python": {
     "delete_cmd_postfix": "",
     "delete_cmd_prefix": "del ",
     "library": "var_list.py",
     "varRefreshCmd": "print(var_dic_list())"
    },
    "r": {
     "delete_cmd_postfix": ") ",
     "delete_cmd_prefix": "rm(",
     "library": "var_list.r",
     "varRefreshCmd": "cat(var_dic_list()) "
    }
   },
   "types_to_exclude": [
    "module",
    "function",
    "builtin_function_or_method",
    "instance",
    "_Feature"
   ],
   "window_display": false
  }
 },
 "nbformat": 4,
 "nbformat_minor": 1
}
